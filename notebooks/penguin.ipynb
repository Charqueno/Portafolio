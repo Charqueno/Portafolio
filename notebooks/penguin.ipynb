{
 "cells": [
  {
   "cell_type": "markdown",
   "id": "cfb40d7d",
   "metadata": {},
   "source": [
    "# Clasificación de pingüinos utilizando distintos métodos de machine learning."
   ]
  },
  {
   "cell_type": "code",
   "execution_count": 202,
   "id": "aee43643",
   "metadata": {},
   "outputs": [],
   "source": [
    "import pandas as pd\n",
    "from sklearn.manifold import TSNE\n",
    "from sklearn import preprocessing\n",
    "import matplotlib.pyplot as plt\n",
    "from sklearn.naive_bayes import GaussianNB\n",
    "from sklearn.neighbors import KNeighborsClassifier\n",
    "from sklearn.tree import DecisionTreeClassifier\n",
    "import seaborn as sns\n",
    "import random\n",
    "import numpy as np\n",
    "from sklearn.model_selection import train_test_split \n",
    "import joblib"
   ]
  },
  {
   "cell_type": "markdown",
   "id": "17ee45dc",
   "metadata": {},
   "source": [
    "## Mapa de distribución de los datos."
   ]
  },
  {
   "cell_type": "code",
   "execution_count": 203,
   "id": "7e1985d8",
   "metadata": {},
   "outputs": [
    {
     "data": {
      "text/html": [
       "<div>\n",
       "<style scoped>\n",
       "    .dataframe tbody tr th:only-of-type {\n",
       "        vertical-align: middle;\n",
       "    }\n",
       "\n",
       "    .dataframe tbody tr th {\n",
       "        vertical-align: top;\n",
       "    }\n",
       "\n",
       "    .dataframe thead th {\n",
       "        text-align: right;\n",
       "    }\n",
       "</style>\n",
       "<table border=\"1\" class=\"dataframe\">\n",
       "  <thead>\n",
       "    <tr style=\"text-align: right;\">\n",
       "      <th></th>\n",
       "      <th>species</th>\n",
       "      <th>island</th>\n",
       "      <th>culmen_length_mm</th>\n",
       "      <th>culmen_depth_mm</th>\n",
       "      <th>flipper_length_mm</th>\n",
       "      <th>body_mass_g</th>\n",
       "      <th>sex</th>\n",
       "    </tr>\n",
       "  </thead>\n",
       "  <tbody>\n",
       "    <tr>\n",
       "      <th>0</th>\n",
       "      <td>Adelie</td>\n",
       "      <td>Torgersen</td>\n",
       "      <td>39.1</td>\n",
       "      <td>18.7</td>\n",
       "      <td>181.0</td>\n",
       "      <td>3750.0</td>\n",
       "      <td>MALE</td>\n",
       "    </tr>\n",
       "    <tr>\n",
       "      <th>1</th>\n",
       "      <td>Adelie</td>\n",
       "      <td>Torgersen</td>\n",
       "      <td>39.5</td>\n",
       "      <td>17.4</td>\n",
       "      <td>186.0</td>\n",
       "      <td>3800.0</td>\n",
       "      <td>FEMALE</td>\n",
       "    </tr>\n",
       "    <tr>\n",
       "      <th>2</th>\n",
       "      <td>Adelie</td>\n",
       "      <td>Torgersen</td>\n",
       "      <td>40.3</td>\n",
       "      <td>18.0</td>\n",
       "      <td>195.0</td>\n",
       "      <td>3250.0</td>\n",
       "      <td>FEMALE</td>\n",
       "    </tr>\n",
       "    <tr>\n",
       "      <th>3</th>\n",
       "      <td>Adelie</td>\n",
       "      <td>Torgersen</td>\n",
       "      <td>NaN</td>\n",
       "      <td>NaN</td>\n",
       "      <td>NaN</td>\n",
       "      <td>NaN</td>\n",
       "      <td>NaN</td>\n",
       "    </tr>\n",
       "    <tr>\n",
       "      <th>4</th>\n",
       "      <td>Adelie</td>\n",
       "      <td>Torgersen</td>\n",
       "      <td>36.7</td>\n",
       "      <td>19.3</td>\n",
       "      <td>193.0</td>\n",
       "      <td>3450.0</td>\n",
       "      <td>FEMALE</td>\n",
       "    </tr>\n",
       "    <tr>\n",
       "      <th>...</th>\n",
       "      <td>...</td>\n",
       "      <td>...</td>\n",
       "      <td>...</td>\n",
       "      <td>...</td>\n",
       "      <td>...</td>\n",
       "      <td>...</td>\n",
       "      <td>...</td>\n",
       "    </tr>\n",
       "    <tr>\n",
       "      <th>339</th>\n",
       "      <td>Gentoo</td>\n",
       "      <td>Biscoe</td>\n",
       "      <td>NaN</td>\n",
       "      <td>NaN</td>\n",
       "      <td>NaN</td>\n",
       "      <td>NaN</td>\n",
       "      <td>NaN</td>\n",
       "    </tr>\n",
       "    <tr>\n",
       "      <th>340</th>\n",
       "      <td>Gentoo</td>\n",
       "      <td>Biscoe</td>\n",
       "      <td>46.8</td>\n",
       "      <td>14.3</td>\n",
       "      <td>215.0</td>\n",
       "      <td>4850.0</td>\n",
       "      <td>FEMALE</td>\n",
       "    </tr>\n",
       "    <tr>\n",
       "      <th>341</th>\n",
       "      <td>Gentoo</td>\n",
       "      <td>Biscoe</td>\n",
       "      <td>50.4</td>\n",
       "      <td>15.7</td>\n",
       "      <td>222.0</td>\n",
       "      <td>5750.0</td>\n",
       "      <td>MALE</td>\n",
       "    </tr>\n",
       "    <tr>\n",
       "      <th>342</th>\n",
       "      <td>Gentoo</td>\n",
       "      <td>Biscoe</td>\n",
       "      <td>45.2</td>\n",
       "      <td>14.8</td>\n",
       "      <td>212.0</td>\n",
       "      <td>5200.0</td>\n",
       "      <td>FEMALE</td>\n",
       "    </tr>\n",
       "    <tr>\n",
       "      <th>343</th>\n",
       "      <td>Gentoo</td>\n",
       "      <td>Biscoe</td>\n",
       "      <td>49.9</td>\n",
       "      <td>16.1</td>\n",
       "      <td>213.0</td>\n",
       "      <td>5400.0</td>\n",
       "      <td>MALE</td>\n",
       "    </tr>\n",
       "  </tbody>\n",
       "</table>\n",
       "<p>344 rows × 7 columns</p>\n",
       "</div>"
      ],
      "text/plain": [
       "    species     island  culmen_length_mm  culmen_depth_mm  flipper_length_mm  \\\n",
       "0    Adelie  Torgersen              39.1             18.7              181.0   \n",
       "1    Adelie  Torgersen              39.5             17.4              186.0   \n",
       "2    Adelie  Torgersen              40.3             18.0              195.0   \n",
       "3    Adelie  Torgersen               NaN              NaN                NaN   \n",
       "4    Adelie  Torgersen              36.7             19.3              193.0   \n",
       "..      ...        ...               ...              ...                ...   \n",
       "339  Gentoo     Biscoe               NaN              NaN                NaN   \n",
       "340  Gentoo     Biscoe              46.8             14.3              215.0   \n",
       "341  Gentoo     Biscoe              50.4             15.7              222.0   \n",
       "342  Gentoo     Biscoe              45.2             14.8              212.0   \n",
       "343  Gentoo     Biscoe              49.9             16.1              213.0   \n",
       "\n",
       "     body_mass_g     sex  \n",
       "0         3750.0    MALE  \n",
       "1         3800.0  FEMALE  \n",
       "2         3250.0  FEMALE  \n",
       "3            NaN     NaN  \n",
       "4         3450.0  FEMALE  \n",
       "..           ...     ...  \n",
       "339          NaN     NaN  \n",
       "340       4850.0  FEMALE  \n",
       "341       5750.0    MALE  \n",
       "342       5200.0  FEMALE  \n",
       "343       5400.0    MALE  \n",
       "\n",
       "[344 rows x 7 columns]"
      ]
     },
     "execution_count": 203,
     "metadata": {},
     "output_type": "execute_result"
    }
   ],
   "source": [
    "df = pd.read_csv(\"penguins_size.csv\")\n",
    "df"
   ]
  },
  {
   "cell_type": "code",
   "execution_count": 204,
   "id": "d6e3d0a1",
   "metadata": {},
   "outputs": [
    {
     "data": {
      "text/html": [
       "<div>\n",
       "<style scoped>\n",
       "    .dataframe tbody tr th:only-of-type {\n",
       "        vertical-align: middle;\n",
       "    }\n",
       "\n",
       "    .dataframe tbody tr th {\n",
       "        vertical-align: top;\n",
       "    }\n",
       "\n",
       "    .dataframe thead th {\n",
       "        text-align: right;\n",
       "    }\n",
       "</style>\n",
       "<table border=\"1\" class=\"dataframe\">\n",
       "  <thead>\n",
       "    <tr style=\"text-align: right;\">\n",
       "      <th></th>\n",
       "      <th>species</th>\n",
       "      <th>culmen_length_mm</th>\n",
       "      <th>culmen_depth_mm</th>\n",
       "      <th>flipper_length_mm</th>\n",
       "      <th>body_mass_g</th>\n",
       "    </tr>\n",
       "  </thead>\n",
       "  <tbody>\n",
       "    <tr>\n",
       "      <th>0</th>\n",
       "      <td>0</td>\n",
       "      <td>39.1</td>\n",
       "      <td>18.7</td>\n",
       "      <td>181.0</td>\n",
       "      <td>3750.0</td>\n",
       "    </tr>\n",
       "    <tr>\n",
       "      <th>1</th>\n",
       "      <td>0</td>\n",
       "      <td>39.5</td>\n",
       "      <td>17.4</td>\n",
       "      <td>186.0</td>\n",
       "      <td>3800.0</td>\n",
       "    </tr>\n",
       "    <tr>\n",
       "      <th>2</th>\n",
       "      <td>0</td>\n",
       "      <td>40.3</td>\n",
       "      <td>18.0</td>\n",
       "      <td>195.0</td>\n",
       "      <td>3250.0</td>\n",
       "    </tr>\n",
       "    <tr>\n",
       "      <th>4</th>\n",
       "      <td>0</td>\n",
       "      <td>36.7</td>\n",
       "      <td>19.3</td>\n",
       "      <td>193.0</td>\n",
       "      <td>3450.0</td>\n",
       "    </tr>\n",
       "    <tr>\n",
       "      <th>5</th>\n",
       "      <td>0</td>\n",
       "      <td>39.3</td>\n",
       "      <td>20.6</td>\n",
       "      <td>190.0</td>\n",
       "      <td>3650.0</td>\n",
       "    </tr>\n",
       "    <tr>\n",
       "      <th>...</th>\n",
       "      <td>...</td>\n",
       "      <td>...</td>\n",
       "      <td>...</td>\n",
       "      <td>...</td>\n",
       "      <td>...</td>\n",
       "    </tr>\n",
       "    <tr>\n",
       "      <th>338</th>\n",
       "      <td>2</td>\n",
       "      <td>47.2</td>\n",
       "      <td>13.7</td>\n",
       "      <td>214.0</td>\n",
       "      <td>4925.0</td>\n",
       "    </tr>\n",
       "    <tr>\n",
       "      <th>340</th>\n",
       "      <td>2</td>\n",
       "      <td>46.8</td>\n",
       "      <td>14.3</td>\n",
       "      <td>215.0</td>\n",
       "      <td>4850.0</td>\n",
       "    </tr>\n",
       "    <tr>\n",
       "      <th>341</th>\n",
       "      <td>2</td>\n",
       "      <td>50.4</td>\n",
       "      <td>15.7</td>\n",
       "      <td>222.0</td>\n",
       "      <td>5750.0</td>\n",
       "    </tr>\n",
       "    <tr>\n",
       "      <th>342</th>\n",
       "      <td>2</td>\n",
       "      <td>45.2</td>\n",
       "      <td>14.8</td>\n",
       "      <td>212.0</td>\n",
       "      <td>5200.0</td>\n",
       "    </tr>\n",
       "    <tr>\n",
       "      <th>343</th>\n",
       "      <td>2</td>\n",
       "      <td>49.9</td>\n",
       "      <td>16.1</td>\n",
       "      <td>213.0</td>\n",
       "      <td>5400.0</td>\n",
       "    </tr>\n",
       "  </tbody>\n",
       "</table>\n",
       "<p>342 rows × 5 columns</p>\n",
       "</div>"
      ],
      "text/plain": [
       "     species  culmen_length_mm  culmen_depth_mm  flipper_length_mm  \\\n",
       "0          0              39.1             18.7              181.0   \n",
       "1          0              39.5             17.4              186.0   \n",
       "2          0              40.3             18.0              195.0   \n",
       "4          0              36.7             19.3              193.0   \n",
       "5          0              39.3             20.6              190.0   \n",
       "..       ...               ...              ...                ...   \n",
       "338        2              47.2             13.7              214.0   \n",
       "340        2              46.8             14.3              215.0   \n",
       "341        2              50.4             15.7              222.0   \n",
       "342        2              45.2             14.8              212.0   \n",
       "343        2              49.9             16.1              213.0   \n",
       "\n",
       "     body_mass_g  \n",
       "0         3750.0  \n",
       "1         3800.0  \n",
       "2         3250.0  \n",
       "4         3450.0  \n",
       "5         3650.0  \n",
       "..           ...  \n",
       "338       4925.0  \n",
       "340       4850.0  \n",
       "341       5750.0  \n",
       "342       5200.0  \n",
       "343       5400.0  \n",
       "\n",
       "[342 rows x 5 columns]"
      ]
     },
     "execution_count": 204,
     "metadata": {},
     "output_type": "execute_result"
    }
   ],
   "source": [
    "features = ['species','culmen_length_mm','culmen_depth_mm','flipper_length_mm', 'body_mass_g']\n",
    "species =list(set(df['species']))\n",
    "df['species'].replace(species,range(len(species)),inplace=True)\n",
    "data = df[features].dropna()\n",
    "data"
   ]
  },
  {
   "cell_type": "code",
   "execution_count": 205,
   "id": "b5127f5c",
   "metadata": {},
   "outputs": [
    {
     "data": {
      "text/plain": [
       "<matplotlib.legend.Legend at 0x7fe731f73400>"
      ]
     },
     "execution_count": 205,
     "metadata": {},
     "output_type": "execute_result"
    },
    {
     "data": {
      "image/png": "[encoded data removed]",
      "text/plain": [
       "<Figure size 640x480 with 1 Axes>"
      ]
     },
     "metadata": {},
     "output_type": "display_data"
    }
   ],
   "source": [
    "X_n = preprocessing.normalize(data.values)\n",
    "\n",
    "r = data['species'] == 0\n",
    "g = data['species'] == 1\n",
    "b = data['species'] == 2\n",
    "\n",
    "tsne = TSNE(\n",
    "    n_components=2,\n",
    "    init=\"random\",\n",
    "    random_state=30,\n",
    "    perplexity=100,\n",
    "    n_iter=300,\n",
    ")\n",
    "Y = tsne.fit_transform(X_n)\n",
    "fig, ax = plt.subplots()\n",
    "\n",
    "ax.scatter(Y[r,0],Y[r,1],c = 'r',label=species[0])\n",
    "ax.scatter(Y[g,0],Y[g,1],c = 'g',label=species[1])\n",
    "ax.scatter(Y[b,0],Y[b,1],c = 'b',label=species[2])\n",
    "ax.legend(bbox_to_anchor=(1.05, 1), loc='upper left', borderaxespad=0.)"
   ]
  },
  {
   "cell_type": "code",
   "execution_count": 206,
   "id": "e8058501",
   "metadata": {},
   "outputs": [],
   "source": [
    "df = pd.read_csv(\"penguins_size.csv\")\n",
    "df = df.dropna()\n",
    "y = df[\"species\"]\n",
    "X = df.iloc[:,[2,3,4,5]]\n",
    "X_train, X_test, y_train, y_test = train_test_split(X, y,test_size=0.2, random_state=3)"
   ]
  },
  {
   "cell_type": "markdown",
   "id": "ca463510",
   "metadata": {},
   "source": [
    "### Método Redes Bayesianas"
   ]
  },
  {
   "cell_type": "code",
   "execution_count": 197,
   "id": "756494c0",
   "metadata": {},
   "outputs": [],
   "source": [
    "from sklearn.metrics import confusion_matrix\n",
    "from sklearn.metrics import classification_report\n",
    "from mlxtend.plotting import plot_confusion_matrix"
   ]
  },
  {
   "cell_type": "code",
   "execution_count": 198,
   "id": "918e613e",
   "metadata": {},
   "outputs": [
    {
     "name": "stdout",
     "output_type": "stream",
     "text": [
      "Redes Bayesianas: 0.9662921348314607\n",
      "\n",
      "               precision    recall  f1-score   support\n",
      "\n",
      "      Adelie       1.00      0.96      0.98        25\n",
      "   Chinstrap       0.93      1.00      0.96        13\n",
      "      Gentoo       1.00      1.00      1.00        29\n",
      "\n",
      "    accuracy                           0.99        67\n",
      "   macro avg       0.98      0.99      0.98        67\n",
      "weighted avg       0.99      0.99      0.99        67\n",
      "\n"
     ]
    },
    {
     "data": {
      "image/png": "[encoded data removed]",
      "text/plain": [
       "<Figure size 900x900 with 1 Axes>"
      ]
     },
     "metadata": {},
     "output_type": "display_data"
    }
   ],
   "source": [
    "classifier_new = GaussianNB()\n",
    "classifier_new.fit(X_train, y_train)\n",
    "y_test_pred = classifier_new.predict(X_test)\n",
    "accuracy = 100.0 * (y_test == y_test_pred_dtc).sum() / X_test.shape[0]\n",
    "print('Redes Bayesianas: {}'.format(classifier_new.score(X_train, y_train)))\n",
    "print('\\n', classification_report(y_test, y_test_pred, target_names=targets))\n",
    "targets = ['Adelie', 'Chinstrap', 'Gentoo']\n",
    "matc = confusion_matrix(y_test, y_test_pred)\n",
    "plot_confusion_matrix(conf_mat=matc, figsize=(9,9), class_names=targets, show_normed=False)\n",
    "plt.tight_layout()"
   ]
  },
  {
   "cell_type": "markdown",
   "id": "6f0aed5b",
   "metadata": {},
   "source": [
    "### Método de Vecinos más Cercanos."
   ]
  },
  {
   "cell_type": "code",
   "execution_count": 208,
   "id": "34fc4de3",
   "metadata": {},
   "outputs": [
    {
     "name": "stdout",
     "output_type": "stream",
     "text": [
      "Vecinos más Cercanos: 0.8277153558052435\n",
      "\n",
      "               precision    recall  f1-score   support\n",
      "\n",
      "      Adelie       0.70      0.92      0.79        25\n",
      "   Chinstrap       1.00      0.46      0.63        13\n",
      "      Gentoo       0.89      0.86      0.88        29\n",
      "\n",
      "    accuracy                           0.81        67\n",
      "   macro avg       0.86      0.75      0.77        67\n",
      "weighted avg       0.84      0.81      0.80        67\n",
      "\n"
     ]
    },
    {
     "data": {
      "image/png": "[encoded data removed]",
      "text/plain": [
       "<Figure size 900x900 with 1 Axes>"
      ]
     },
     "metadata": {},
     "output_type": "display_data"
    }
   ],
   "source": [
    "algoritmo = KNeighborsClassifier(n_neighbors=5)\n",
    "algoritmo.fit(X_train, y_train)\n",
    "y_test_pred_kn= algoritmo.predict(X_test)\n",
    "accuracy = 100.0 * (y_test == y_test_pred_kn).sum() / X_test.shape[0]\n",
    "print('Vecinos más Cercanos: {}'.format(algoritmo.score(X_train, y_train)))\n",
    "print('\\n', classification_report(y_test, y_test_pred_kn, target_names=targets))\n",
    "targets = ['Adelie', 'Chinstrap', 'Gentoo']\n",
    "matc = confusion_matrix(y_test, y_test_pred_kn)\n",
    "plot_confusion_matrix(conf_mat=matc, figsize=(9,9), class_names=targets, show_normed=False)\n",
    "plt.tight_layout()"
   ]
  },
  {
   "cell_type": "markdown",
   "id": "f2d1a4c7",
   "metadata": {},
   "source": [
    "### Método de arboles de decisión"
   ]
  },
  {
   "cell_type": "code",
   "execution_count": 195,
   "id": "cbf33800",
   "metadata": {},
   "outputs": [
    {
     "name": "stdout",
     "output_type": "stream",
     "text": [
      "Arboles de decisión: 1.0\n",
      "\n",
      "               precision    recall  f1-score   support\n",
      "\n",
      "      Adelie       1.00      1.00      1.00        25\n",
      "   Chinstrap       1.00      1.00      1.00        13\n",
      "      Gentoo       1.00      1.00      1.00        29\n",
      "\n",
      "    accuracy                           1.00        67\n",
      "   macro avg       1.00      1.00      1.00        67\n",
      "weighted avg       1.00      1.00      1.00        67\n",
      "\n"
     ]
    },
    {
     "data": {
      "image/png": "[encoded data removed]",
      "text/plain": [
       "<Figure size 900x900 with 1 Axes>"
      ]
     },
     "metadata": {},
     "output_type": "display_data"
    }
   ],
   "source": [
    "dtc= DecisionTreeClassifier()\n",
    "dtc.fit(X_train, y_train)\n",
    "y_test_pred_dtc = dtc.predict(X_test)\n",
    "accuracy = 100.0 * (y_test == y_test_pred_dtc).sum() / X_test.shape[0]\n",
    "print('Arboles de decisión: {}'.format(dtc.score(X_train, y_train)))\n",
    "print('\\n', classification_report(y_test, y_test_pred_dtc, target_names=targets))\n",
    "targets = ['Adelie', 'Chinstrap', 'Gentoo']\n",
    "matc = confusion_matrix(y_test, y_test_pred_dtc)\n",
    "plot_confusion_matrix(conf_mat=matc, figsize=(9,9), class_names=targets, show_normed=False)\n",
    "plt.tight_layout()"
   ]
  },
  {
   "cell_type": "markdown",
   "id": "fd843bee",
   "metadata": {},
   "source": [
    "### Utilizando el modelo entrenado de redes bayesianas."
   ]
  },
  {
   "cell_type": "code",
   "execution_count": 192,
   "id": "7be022df",
   "metadata": {},
   "outputs": [],
   "source": [
    "model_path = \"clf.pkl\"\n",
    "model = joblib.load(model_path)"
   ]
  },
  {
   "cell_type": "code",
   "execution_count": 160,
   "id": "b6430ced",
   "metadata": {},
   "outputs": [
    {
     "name": "stdout",
     "output_type": "stream",
     "text": [
      "culmen lenght: 24.770982004139235 culmen depth: 62.97639338193397 flipper lenght: 21.544965230110254 body mass: 3585.9251255920153 What penguin am I?: Adelie\n"
     ]
    }
   ],
   "source": [
    "culmen_length_mm = random.uniform(5.5, 75.5)\n",
    "culmen_depth_mm = random.uniform(5.5, 75.5)\n",
    "flipper_length_mm = random.uniform(5.5, 75.5)\n",
    "body_mass_g =random.uniform(2900, 4500)\n",
    "X = pd.DataFrame(\n",
    "    [[culmen_length_mm, culmen_depth_mm,flipper_length_mm,body_mass_g]], \n",
    "    columns = [\"culmen_length_mm\", \"culmen_depth_mm\",\"flipper_length_mm\",\"body_mass_g\"]\n",
    ")\n",
    "prediction = clf.predict(X)[0]\n",
    "print(\n",
    "        \"culmen lenght:\",culmen_length_mm,\n",
    "        \"culmen depth:\",  culmen_depth_mm,\n",
    "        \"flipper lenght:\", flipper_length_mm,\n",
    "        \"body mass:\", body_mass_g,\n",
    "        \"What penguin am I?:\", prediction,\n",
    ")"
   ]
  },
  {
   "cell_type": "code",
   "execution_count": 165,
   "id": "8cc1ae1c",
   "metadata": {},
   "outputs": [
    {
     "name": "stdout",
     "output_type": "stream",
     "text": [
      "culmen lenght: 6.3134686340918185 culmen depth: 16.609853543291226 flipper lenght: 53.121499253229985 body mass: 3749.243023394749 What penguin am I?: Chinstrap\n"
     ]
    }
   ],
   "source": [
    "culmen_length_mm = random.uniform(5.5, 75.5)\n",
    "culmen_depth_mm = random.uniform(5.5, 75.5)\n",
    "flipper_length_mm = random.uniform(5.5, 75.5)\n",
    "body_mass_g =random.uniform(2900, 4500)\n",
    "X = pd.DataFrame(\n",
    "    [[culmen_length_mm, culmen_depth_mm,flipper_length_mm,body_mass_g]], \n",
    "    columns = [\"culmen_length_mm\", \"culmen_depth_mm\",\"flipper_length_mm\",\"body_mass_g\"]\n",
    ")\n",
    "prediction = clf.predict(X)[0]\n",
    "print(\n",
    "        \"culmen lenght:\",culmen_length_mm,\n",
    "        \"culmen depth:\",  culmen_depth_mm,\n",
    "        \"flipper lenght:\", flipper_length_mm,\n",
    "        \"body mass:\", body_mass_g,\n",
    "        \"What penguin am I?:\", prediction,\n",
    ")"
   ]
  }
 ],
 "metadata": {
  "kernelspec": {
   "display_name": "Python 3 (ipykernel)",
   "language": "python",
   "name": "python3"
  },
  "language_info": {
   "codemirror_mode": {
    "name": "ipython",
    "version": 3
   },
   "file_extension": ".py",
   "mimetype": "text/x-python",
   "name": "python",
   "nbconvert_exporter": "python",
   "pygments_lexer": "ipython3",
   "version": "3.8.16"
  }
 },
 "nbformat": 4,
 "nbformat_minor": 5
}
